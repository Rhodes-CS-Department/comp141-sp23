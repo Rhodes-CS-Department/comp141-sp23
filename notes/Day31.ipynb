{
 "cells": [
  {
   "cell_type": "markdown",
   "metadata": {},
   "source": [
    "# Day 31: Midterm 2 Review\n",
    "\n",
    "__Your test is on Monday!__\n"
   ]
  },
  {
   "cell_type": "markdown",
   "metadata": {},
   "source": [
    "## Practice from Last Time\n",
    "The following program has the main function written for you and stubs for 2 other functions that you will need to write.\n",
    "* `findAverage(numbers)` – will return the average of all the numbers in the list\n",
    "* `countNumbers(numbers, average)` - will return 2 values; it counts the number of above average and below average numbers in a list"
   ]
  },
  {
   "cell_type": "markdown",
   "metadata": {},
   "source": [
    "## Midterm 2 practice problems\n"
   ]
  },
  {
   "cell_type": "code",
   "execution_count": null,
   "metadata": {},
   "outputs": [],
   "source": [
    "# Problem 1\n",
    "\n",
    "# FIGURE THIS OUT ON PAPER FIRST, BEFORE RUNNING THIS CELL.\n",
    "\n",
    "# What does this code print?\n",
    "\n",
    "x = 0\n",
    "while x < 10:\n",
    "    x += 1\n",
    "    if x % 2 == 0:\n",
    "        x += 2 \n",
    "    print(x)"
   ]
  },
  {
   "cell_type": "code",
   "execution_count": null,
   "metadata": {},
   "outputs": [],
   "source": [
    "# Problem 2\n",
    "\n",
    "# FIGURE THIS OUT ON PAPER FIRST, BEFORE RUNNING THIS CELL.\n",
    "\n",
    "# What does this code print?\n",
    "\n",
    "for i in range(0, 3):\n",
    "    for j in range(i+1, 6):\n",
    "        print(i, j)"
   ]
  },
  {
   "cell_type": "code",
   "execution_count": null,
   "metadata": {},
   "outputs": [],
   "source": []
  },
  {
   "cell_type": "code",
   "execution_count": null,
   "metadata": {},
   "outputs": [],
   "source": [
    "# Problem 3\n",
    "\n",
    "# Write a loop to print the following sequence of numbers:\n",
    "# 1, 2, 4, 7, 11, 16, 22, 29, 37, 46, ... etc, \n",
    "# stopping when the number 100 (or more) is reached. That is, do not print \n",
    "# any number greater than or equal to 100. Formatting doesn’t matter \n",
    "# (one number per line is fine). \n",
    "\n",
    "# Hint: Figure out the pattern between the numbers. This can be done with \n",
    "# a for loop or while loop, though I think a while loop makes more sense.\n",
    "\n",
    "\n",
    "# Your code here."
   ]
  },
  {
   "cell_type": "code",
   "execution_count": null,
   "metadata": {},
   "outputs": [],
   "source": [
    "# Problem 4\n",
    "\n",
    "#Write a function called productDigits that takes in a string containing letters and numbers and returns \n",
    "#the product of all the single digits in the string. \n",
    "\n",
    "#Example: string = “a2514b” returns 40 since 2*5*1*4 = 40. "
   ]
  },
  {
   "cell_type": "code",
   "execution_count": null,
   "metadata": {},
   "outputs": [],
   "source": [
    "# Problem 5\n",
    "\n",
    "# Write a function called common_factors that takes two arguments. \n",
    "# This function counts the number of factors greater than or equal to 1 \n",
    "# that divide evenly into both arguments.\n",
    "# Example: common_factors(12, 18) returns 4 because both numbers have factors of 1, 2, 3, and 6.\n",
    "\n",
    "\n",
    "def common_factors(num1, num2):\n",
    "    # your code here\n",
    "    \n",
    "    \n",
    "# Write a function called total_time that takes in a string in the format “Hours:Minutes:Seconds” where \n",
    "# Hours, Minutes and Seconds can be any number of digits, and it returns the total seconds in that time. "
   ]
  },
  {
   "cell_type": "code",
   "execution_count": null,
   "metadata": {},
   "outputs": [],
   "source": [
    "# Problem 6\n",
    "\n",
    "# Alice and Bob are running in an election. You have a file called results.txt that \n",
    "# stores the election results. (This file is in this folder.) Each line of the file \n",
    "# contains the time of day that someone voted, along with the name of the person \n",
    "# whom they voted for. Each line has three pieces: the hour [24-hour format], \n",
    "# the minute, and the name Alice or Bob. The file is sorted by time. \n",
    "\n",
    "# Write a program to answer the following questions (I suggest solving each part in order, \n",
    "# not writing all parts at once).\n",
    "\n",
    "# a. Print out who won the election (Alice or Bob).\n",
    "# b. Print out all the times where two people cast ballots at the exact same time (two consecutive identical\n",
    "# times in row).\n",
    "# c. Print out the largest gap in time between ballots being cast (the largest amount of time between two\n",
    "# consecutive ballot castings).\n",
    "# d. Print out the total number of consecutive ballots cast for Alice, and the number for Bob. (The total\n",
    "# number of times Alice or Bob received multiple votes in a row.)\n",
    "\n",
    "\n",
    "def main():\n",
    "    file = open(\"results.txt\",\"r\")\n",
    "    \n",
    "    \n",
    "    countB = 0\n",
    "    countA = 0\n",
    "    \n",
    "    prevName = \"\"\n",
    "    prevHour = -1\n",
    "    prevMin = -1\n",
    "    \n",
    "    sameTime = 0\n",
    "    \n",
    "    for line in file:\n",
    "        line = line.rstrip()\n",
    "        hours, mins, name = line.split(\" \")\n",
    "        #print (name, hours, mins)\n",
    "        if name == \"Bob\":\n",
    "            countB += 1\n",
    "            \n",
    "        else:\n",
    "            countA += 1\n",
    "            \n",
    "    #checks to see who won\n",
    "    if countB > countA:\n",
    "        print(\"Bob wins\")\n",
    "    elif countB == countA:\n",
    "        print(\"tie\")\n",
    "    else:\n",
    "        print(\"Alice wins\")\n",
    "        \n",
    "    if prevHour == hours and prevMins == mins:\n",
    "        print(\"two ballots were submitted at:\", hours, mins)\n",
    "        sameTime += 1\n",
    "        \n",
    "        \n",
    "    prevName = name\n",
    "    prevHour = hours\n",
    "    prevMins = mins\n",
    "main()\n",
    "\n",
    "# Your code here."
   ]
  },
  {
   "cell_type": "code",
   "execution_count": null,
   "metadata": {},
   "outputs": [],
   "source": [
    "#Problem 7\n",
    "# Write a function called total_time that takes in a string in the format “Hours:Minutes:Seconds” where \n",
    "# Hours, Minutes and Seconds can be any number of digits, and it returns the total seconds in that time. "
   ]
  },
  {
   "cell_type": "code",
   "execution_count": null,
   "metadata": {},
   "outputs": [],
   "source": [
    "#Problem 8\n",
    "# Write a function called indexSmallest that takes in a list of integers, and returns the index of the \n",
    "# smallest integer in the list. "
   ]
  },
  {
   "cell_type": "code",
   "execution_count": null,
   "metadata": {},
   "outputs": [],
   "source": [
    "# Problem 9\n",
    "\n",
    "# Suppose you want to write a program that contains a part where the user \n",
    "# must enter their age. You know that everyone using this computer system \n",
    "# must be at least 18 years old. Write a piece of code (can be a function \n",
    "# or just a section of code) that asks the user for their age and uses \n",
    "# input validation to continue asking for it until they type in an age that \n",
    "# is at least 18.\n",
    "\n",
    "\n",
    "# Your code here."
   ]
  },
  {
   "cell_type": "code",
   "execution_count": null,
   "metadata": {},
   "outputs": [],
   "source": [
    "# From midProblem 11    \n",
    "    \n",
    "#Write a function called isValid that takes in as parameters the 3 sides of a triangle as integers, \n",
    "#and returns True if the sum of any two sides is greater than the third side, and returns False \n",
    "#otherwise. "
   ]
  },
  {
   "cell_type": "code",
   "execution_count": null,
   "metadata": {},
   "outputs": [],
   "source": [
    "# Problem 12\n",
    "\n",
    "#Write a function called sumFile that takes in as a parameter the name of the file, and returns the \n",
    "#sum of the numbers in that file. (You can assume that the file will have exactly 1 number per line.) "
   ]
  },
  {
   "cell_type": "code",
   "execution_count": null,
   "metadata": {},
   "outputs": [],
   "source": [
    "#Problem 13\n",
    "# Write a function called interleave that takes two string arguments, called s1 and s2, and returns a new \n",
    "# string that combines their characters in the following manner: the first character from s1, then the first \n",
    "# character from s2, then the second character from s1, then the second character from s2, and so on. \n",
    "\n",
    "# For example, interleave(“abc”, “xyz”) would return “axbycz”.   \n",
    "# You may assume that s1 and s2 have the same number of characters. "
   ]
  },
  {
   "cell_type": "markdown",
   "metadata": {},
   "source": [
    "Please do the following:\n",
    "* Study for Midterm 2 - in class on Monday!\n",
    "* Keep working on Project 7 "
   ]
  },
  {
   "cell_type": "code",
   "execution_count": null,
   "metadata": {},
   "outputs": [],
   "source": [
    "\n",
    "    \n"
   ]
  }
 ],
 "metadata": {
  "kernelspec": {
   "display_name": "Python 3 (ipykernel)",
   "language": "python",
   "name": "python3"
  },
  "language_info": {
   "codemirror_mode": {
    "name": "ipython",
    "version": 3
   },
   "file_extension": ".py",
   "mimetype": "text/x-python",
   "name": "python",
   "nbconvert_exporter": "python",
   "pygments_lexer": "ipython3",
   "version": "3.10.8"
  },
  "varInspector": {
   "cols": {
    "lenName": 16,
    "lenType": 16,
    "lenVar": 40
   },
   "kernels_config": {
    "python": {
     "delete_cmd_postfix": "",
     "delete_cmd_prefix": "del ",
     "library": "var_list.py",
     "varRefreshCmd": "print(var_dic_list())"
    },
    "r": {
     "delete_cmd_postfix": ") ",
     "delete_cmd_prefix": "rm(",
     "library": "var_list.r",
     "varRefreshCmd": "cat(var_dic_list()) "
    }
   },
   "types_to_exclude": [
    "module",
    "function",
    "builtin_function_or_method",
    "instance",
    "_Feature"
   ],
   "window_display": false
  }
 },
 "nbformat": 4,
 "nbformat_minor": 2
}
