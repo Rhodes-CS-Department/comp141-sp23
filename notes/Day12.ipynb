{
 "cells": [
  {
   "cell_type": "markdown",
   "id": "1b14570f",
   "metadata": {},
   "source": [
    "## Questions from Quiz 4"
   ]
  },
  {
   "cell_type": "code",
   "execution_count": null,
   "id": "2195b6ec",
   "metadata": {},
   "outputs": [],
   "source": [
    "def foo(y, x):\n",
    "    y = y * 2\n",
    "    x = x + y\n",
    "    return x + 3 * y\n",
    "\n",
    "def main():\n",
    "    x = 2\n",
    "    y = 5\n",
    "    x = foo(x, y)\n",
    "    print(x, \",\", y)\n",
    "\n",
    "main()"
   ]
  },
  {
   "cell_type": "code",
   "execution_count": null,
   "id": "9555e0ec",
   "metadata": {},
   "outputs": [],
   "source": [
    "def call_1(x):\n",
    "    x = x + 1\n",
    "    return x\n",
    "\n",
    "def call_2(y):\n",
    "    y = y + 3\n",
    "    return 5\n",
    "\n",
    "def main():\n",
    "    y = call_1(3) + call_2(5) + 5\n",
    "    x = call_1(y) + 1\n",
    "    print(x)\n",
    "\n",
    "main()"
   ]
  },
  {
   "cell_type": "code",
   "execution_count": null,
   "id": "7deb490d",
   "metadata": {},
   "outputs": [],
   "source": [
    "x=1\n",
    "def f1():\n",
    "    y = x + 2\n",
    "    print(y,end=\"\")\n",
    "    \n",
    "f1()\n",
    "print(x, end=\"\")"
   ]
  },
  {
   "cell_type": "markdown",
   "id": "79c26b22",
   "metadata": {},
   "source": [
    "## Practice From Last Time\n",
    "1. Write a function called `direction` that takes two float arguments, `x` and `y`. Consider an arrow  on the Cartesian plane pointing from (0,0) to (x, y). This function should return the string \"NE\", \"SE\", \"SW\", or \"NW\" depending on the direction that the arrow points. Assume `x` and `y` will never be 0. The def line will be: `def direction(x, y):`"
   ]
  },
  {
   "cell_type": "code",
   "execution_count": null,
   "id": "fac31d0b",
   "metadata": {},
   "outputs": [],
   "source": []
  },
  {
   "cell_type": "markdown",
   "id": "645103df",
   "metadata": {},
   "source": [
    "2. Write a function called `area_of_circle` that takes in one float argument `radius`. This function should return the area of a circle with that radius ($area= \\pi ∗ 𝑟^2$). The def line will be: `def area_of_circle(radius):`"
   ]
  },
  {
   "cell_type": "code",
   "execution_count": null,
   "id": "1df15637",
   "metadata": {},
   "outputs": [],
   "source": []
  },
  {
   "cell_type": "markdown",
   "id": "bca4a52b",
   "metadata": {},
   "source": [
    "### To Do\n",
    "1. Lab 03 due tonight by 11:59pm\n",
    "2. Project 03 due tomorrow at 11:59pm"
   ]
  },
  {
   "cell_type": "code",
   "execution_count": null,
   "id": "a9cc7899",
   "metadata": {},
   "outputs": [],
   "source": []
  }
 ],
 "metadata": {
  "kernelspec": {
   "display_name": "Python 3 (ipykernel)",
   "language": "python",
   "name": "python3"
  },
  "language_info": {
   "codemirror_mode": {
    "name": "ipython",
    "version": 3
   },
   "file_extension": ".py",
   "mimetype": "text/x-python",
   "name": "python",
   "nbconvert_exporter": "python",
   "pygments_lexer": "ipython3",
   "version": "3.10.5"
  },
  "varInspector": {
   "cols": {
    "lenName": 16,
    "lenType": 16,
    "lenVar": 40
   },
   "kernels_config": {
    "python": {
     "delete_cmd_postfix": "",
     "delete_cmd_prefix": "del ",
     "library": "var_list.py",
     "varRefreshCmd": "print(var_dic_list())"
    },
    "r": {
     "delete_cmd_postfix": ") ",
     "delete_cmd_prefix": "rm(",
     "library": "var_list.r",
     "varRefreshCmd": "cat(var_dic_list()) "
    }
   },
   "types_to_exclude": [
    "module",
    "function",
    "builtin_function_or_method",
    "instance",
    "_Feature"
   ],
   "window_display": false
  }
 },
 "nbformat": 4,
 "nbformat_minor": 5
}
